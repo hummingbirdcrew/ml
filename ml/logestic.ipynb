{
 "cells": [
  {
   "cell_type": "code",
   "execution_count": 1,
   "id": "16ea2c5e-fe2a-4651-8b70-d5fe1d295fbc",
   "metadata": {},
   "outputs": [],
   "source": [
    "import pandas as pd \n",
    "import numpy as np"
   ]
  },
  {
   "cell_type": "code",
   "execution_count": 2,
   "id": "5db3c2dd-28da-4146-a240-19f6fdac3bb4",
   "metadata": {},
   "outputs": [
    {
     "data": {
      "text/html": [
       "<div>\n",
       "<style scoped>\n",
       "    .dataframe tbody tr th:only-of-type {\n",
       "        vertical-align: middle;\n",
       "    }\n",
       "\n",
       "    .dataframe tbody tr th {\n",
       "        vertical-align: top;\n",
       "    }\n",
       "\n",
       "    .dataframe thead th {\n",
       "        text-align: right;\n",
       "    }\n",
       "</style>\n",
       "<table border=\"1\" class=\"dataframe\">\n",
       "  <thead>\n",
       "    <tr style=\"text-align: right;\">\n",
       "      <th></th>\n",
       "      <th>X1</th>\n",
       "      <th>X2</th>\n",
       "      <th>Y</th>\n",
       "    </tr>\n",
       "  </thead>\n",
       "  <tbody>\n",
       "    <tr>\n",
       "      <th>0</th>\n",
       "      <td>2.781084</td>\n",
       "      <td>2.550537</td>\n",
       "      <td>0</td>\n",
       "    </tr>\n",
       "    <tr>\n",
       "      <th>1</th>\n",
       "      <td>1.465489</td>\n",
       "      <td>2.362125</td>\n",
       "      <td>0</td>\n",
       "    </tr>\n",
       "    <tr>\n",
       "      <th>2</th>\n",
       "      <td>3.396562</td>\n",
       "      <td>4.400294</td>\n",
       "      <td>0</td>\n",
       "    </tr>\n",
       "    <tr>\n",
       "      <th>3</th>\n",
       "      <td>1.388070</td>\n",
       "      <td>1.850220</td>\n",
       "      <td>0</td>\n",
       "    </tr>\n",
       "    <tr>\n",
       "      <th>4</th>\n",
       "      <td>3.064072</td>\n",
       "      <td>3.005306</td>\n",
       "      <td>0</td>\n",
       "    </tr>\n",
       "  </tbody>\n",
       "</table>\n",
       "</div>"
      ],
      "text/plain": [
       "         X1        X2  Y\n",
       "0  2.781084  2.550537  0\n",
       "1  1.465489  2.362125  0\n",
       "2  3.396562  4.400294  0\n",
       "3  1.388070  1.850220  0\n",
       "4  3.064072  3.005306  0"
      ]
     },
     "execution_count": 2,
     "metadata": {},
     "output_type": "execute_result"
    }
   ],
   "source": [
    "data=pd.read_csv('x1x2.csv')\n",
    "data.head()\n"
   ]
  },
  {
   "cell_type": "code",
   "execution_count": 3,
   "id": "29d48d9d-5e77-4d77-a5c4-b44fc14e4d52",
   "metadata": {},
   "outputs": [],
   "source": [
    "x1=data['X1']\n",
    "x2=data['X2']\n",
    "y=data['Y']\n"
   ]
  },
  {
   "cell_type": "code",
   "execution_count": 22,
   "id": "1482fa6a-1a85-4f16-84d5-2f096a5e00be",
   "metadata": {},
   "outputs": [
    {
     "name": "stdout",
     "output_type": "stream",
     "text": [
      "Final Intercept (B0): -0.477035679684635\n",
      "Final Coefficient (B1): 0.9772209352055796\n",
      "Final Coefficient (B2): -1.452211909462632\n",
      "Final Accuracy: 100.0\n"
     ]
    }
   ],
   "source": [
    "b0=0\n",
    "b1=0\n",
    "b2=0\n",
    "alpha=0.3\n",
    "iterations=10\n",
    "coefficients_history = []\n",
    "cost_history = []\n",
    "def sigmod(x):\n",
    "    return 1/(1+np.exp(-x))\n",
    "\n",
    "for iteration in range(iterations):\n",
    "    z=b0+b1*x1+b2*x2\n",
    "    p=sigmod(z)\n",
    "    error=y-p\n",
    "    b0+=alpha*np.sum(error*p*(1-p))\n",
    "    b1+=alpha*np.sum(error*p*(1-p)*x1)\n",
    "    b2+=alpha*np.sum(error*p*(1-p)*x2)\n",
    "    cost = -np.mean(y * np.log(p) + (1 - y) * np.log(1-p ))\n",
    "    cost_history.append(cost)\n",
    "    coefficients_history.append([b0,b1,b2])\n",
    "    # Calculate accuracy using the final model\n",
    "    final_z = b0 + b1 * x1 + b2 * x2\n",
    "    final_predicted = sigmod(final_z)\n",
    "    final_predictions = np.where(final_predicted < 0.5, 0, 1)\n",
    "    accuracy = (np.sum(final_predictions == y) / len(y)) * 100.0\n",
    "\n",
    "print(\"Final Intercept (B0):\", b0)\n",
    "print(\"Final Coefficient (B1):\", b1)\n",
    "print(\"Final Coefficient (B2):\", b2)\n",
    "print(\"Final Accuracy:\", accuracy)\n",
    "\n",
    "    \n"
   ]
  },
  {
   "cell_type": "code",
   "execution_count": null,
   "id": "813e202b-cbfd-4c9b-8704-dc602df366f5",
   "metadata": {},
   "outputs": [],
   "source": []
  }
 ],
 "metadata": {
  "kernelspec": {
   "display_name": "Python 3 (ipykernel)",
   "language": "python",
   "name": "python3"
  },
  "language_info": {
   "codemirror_mode": {
    "name": "ipython",
    "version": 3
   },
   "file_extension": ".py",
   "mimetype": "text/x-python",
   "name": "python",
   "nbconvert_exporter": "python",
   "pygments_lexer": "ipython3",
   "version": "3.12.0"
  }
 },
 "nbformat": 4,
 "nbformat_minor": 5
}
