{
 "cells": [
  {
   "cell_type": "code",
   "execution_count": 113,
   "id": "cb61c174-7d23-480c-8ff0-ae8131b3e779",
   "metadata": {},
   "outputs": [
    {
     "name": "stdout",
     "output_type": "stream",
     "text": [
      "    Unnamed: 0   Outlook  Temp  Humidity    Wind Decision\n",
      "0            0     sunny    85        85    weak       No\n",
      "1            1     sunny    80        90  strong       No\n",
      "2            2  overcast    83        78    weak      yes\n",
      "3            3     rainy    70        96    weak      yes\n",
      "4            4     rainy    68        80    weak      yes\n",
      "5            5     rainy    65        70  strong       no\n",
      "6            6  overcast    64        65  strong      yes\n",
      "7            7     sunny    72        95    weak       no\n",
      "8            8     sunny    69        70    weak      yes\n",
      "9            9     rainy    75        80    weak      yes\n",
      "10          10     sunny    75        70  strong      yes\n",
      "11          11  overcast    72        90  strong      yes\n",
      "12          12  overcast    81        75    weak      yes\n",
      "13          13     rainy    71        80  strong       no\n"
     ]
    }
   ],
   "source": [
    "import pandas as pd \n",
    "import numpy as np\n",
    "data=pd.read_csv('DecisionTree.csv')\n",
    "print(data)"
   ]
  },
  {
   "cell_type": "code",
   "execution_count": 114,
   "id": "7dfabcf1-a7f2-42e6-b0c4-1a2e264a7c6d",
   "metadata": {},
   "outputs": [
    {
     "name": "stdout",
     "output_type": "stream",
     "text": [
      "     Outlook  Temp  Humidity    Wind\n",
      "0      sunny    85        85    weak\n",
      "1      sunny    80        90  strong\n",
      "2   overcast    83        78    weak\n",
      "3      rainy    70        96    weak\n",
      "4      rainy    68        80    weak\n",
      "5      rainy    65        70  strong\n",
      "6   overcast    64        65  strong\n",
      "7      sunny    72        95    weak\n",
      "8      sunny    69        70    weak\n",
      "9      rainy    75        80    weak\n",
      "10     sunny    75        70  strong\n",
      "11  overcast    72        90  strong\n",
      "12  overcast    81        75    weak\n",
      "13     rainy    71        80  strong 0      No\n",
      "1      No\n",
      "2     yes\n",
      "3     yes\n",
      "4     yes\n",
      "5      no\n",
      "6     yes\n",
      "7      no\n",
      "8     yes\n",
      "9     yes\n",
      "10    yes\n",
      "11    yes\n",
      "12    yes\n",
      "13     no\n",
      "Name: Decision, dtype: object\n"
     ]
    }
   ],
   "source": [
    "x=data[['Outlook','Temp','Humidity','Wind']]\n",
    "y=data['Decision']\n",
    "print(x,y)"
   ]
  },
  {
   "cell_type": "code",
   "execution_count": 93,
   "id": "f63e2272-3d4c-46a2-a2c2-6b16e5fa3aa2",
   "metadata": {},
   "outputs": [
    {
     "name": "stdout",
     "output_type": "stream",
     "text": [
      "    Unnamed: 0   Outlook  Temp  Humidity    Wind Decision\n",
      "0            0     sunny    85        85    weak       No\n",
      "1            1     sunny    80        90  strong       No\n",
      "2            2  overcast    83        78    weak      yes\n",
      "3            3     rainy    70        96    weak      yes\n",
      "4            4     rainy    68        80    weak      yes\n",
      "5            5     rainy    65        70  strong       no\n",
      "6            6  overcast    64        65  strong      yes\n",
      "7            7     sunny    72        95    weak       no\n",
      "8            8     sunny    69        70    weak      yes\n",
      "9            9     rainy    75        80    weak      yes\n",
      "10          10     sunny    75        70  strong      yes\n",
      "11          11  overcast    72        90  strong      yes\n",
      "12          12  overcast    81        75    weak      yes\n",
      "13          13     rainy    71        80  strong       no\n"
     ]
    }
   ],
   "source": [
    "\n",
    "print(data)"
   ]
  },
  {
   "cell_type": "code",
   "execution_count": 115,
   "id": "9f145e05-885d-4b42-9ecf-fd95f33b4659",
   "metadata": {},
   "outputs": [],
   "source": [
    "def f(k):\n",
    "    if k >= 80 :\n",
    "        return 'high'\n",
    "    elif k >= 70 and k <= 79 :\n",
    "        return 'med'\n",
    "    elif k >=60 and k <=69 :\n",
    "        return 'low'"
   ]
  },
  {
   "cell_type": "code",
   "execution_count": 116,
   "id": "ddce843a-d02c-4cc9-839f-28ea3976e542",
   "metadata": {},
   "outputs": [
    {
     "name": "stdout",
     "output_type": "stream",
     "text": [
      "    Unnamed: 0   Outlook  Temp Humidity    Wind Decision\n",
      "0            0     sunny  high     high    weak       No\n",
      "1            1     sunny  high     high  strong       No\n",
      "2            2  overcast  high      med    weak      yes\n",
      "3            3     rainy   med     high    weak      yes\n",
      "4            4     rainy   low     high    weak      yes\n",
      "5            5     rainy   low      med  strong       no\n",
      "6            6  overcast   low      low  strong      yes\n",
      "7            7     sunny   med     high    weak       no\n",
      "8            8     sunny   low      med    weak      yes\n",
      "9            9     rainy   med     high    weak      yes\n",
      "10          10     sunny   med      med  strong      yes\n",
      "11          11  overcast   med     high  strong      yes\n",
      "12          12  overcast  high      med    weak      yes\n",
      "13          13     rainy   med     high  strong       no\n"
     ]
    }
   ],
   "source": [
    "data['Humidity'] = data['Humidity'].apply(f)\n",
    "data['Temp'] = data['Temp'].apply(f)\n",
    "print(data)"
   ]
  },
  {
   "cell_type": "code",
   "execution_count": 127,
   "id": "a60cd44a-6f41-45f0-89b4-8dbda6da39e1",
   "metadata": {},
   "outputs": [],
   "source": [
    "def yes_no(k):\n",
    "    yes_count = 0\n",
    "    no_count = 0\n",
    "    for i in k:\n",
    "        if i == 'yes':\n",
    "            yes_count = yes_count + 1\n",
    "        else:\n",
    "            no_count = no_count + 1\n",
    "    return yes_count,no_count\n",
    "def total_entropy(yes,no):\n",
    "    yes_ratio = yes/(yes+no)\n",
    "    no_ratio = no/(yes+no)\n",
    "    return -(np.sum(yes_ratio*np.log2(yes_ratio) + no_ratio*np.log2(no_ratio)))\n",
    "def entropy(k):\n",
    "    k1,k2 = yes_no(k.iloc[:,-1])\n",
    "    print(k1,k2)\n",
    "    if k1 == 0 or k2 == 0 :\n",
    "        return 0\n",
    "    else :\n",
    "        total = k1 + k2\n",
    "        return -(total/14)*(np.sum((k1/total)*np.log2((k1/total)) + (k2/total)*np.log2((k2/total))))\n"
   ]
  },
  {
   "cell_type": "code",
   "execution_count": 125,
   "id": "e612358b-a400-4a38-b0e3-6d1621b76722",
   "metadata": {},
   "outputs": [],
   "source": [
    "yes,no = yes_no(data['Decision'])\n",
    "h = total_entropy(yes,no)"
   ]
  },
  {
   "cell_type": "code",
   "execution_count": 128,
   "id": "5f1801d5-5d1f-4a18-94ce-6ccfc9ca2380",
   "metadata": {},
   "outputs": [
    {
     "name": "stdout",
     "output_type": "stream",
     "text": [
      "2 3\n",
      "4 0\n",
      "3 2\n",
      "outlook entropy : 0.6935361388961918\n"
     ]
    },
    {
     "data": {
      "text/plain": [
       "0.24674981977443933"
      ]
     },
     "execution_count": 128,
     "metadata": {},
     "output_type": "execute_result"
    }
   ],
   "source": [
    "df_sunny = data[data['Outlook'] =='sunny']\n",
    "df_overcast = data[data['Outlook'] =='overcast']\n",
    "df_rain = data[data['Outlook'] =='rainy']\n",
    "net_entropy_outlook = entropy(df_sunny) + entropy(df_overcast) + entropy(df_rain)\n",
    "print(\"outlook entropy :\",net_entropy_outlook)\n",
    "info_gain_outlook = h - net_entropy_outlook\n",
    "info_gain_outlook"
   ]
  },
  {
   "cell_type": "code",
   "execution_count": 120,
   "id": "4a7b579b-6db1-427d-99eb-2ee58db701e6",
   "metadata": {},
   "outputs": [
    {
     "name": "stdout",
     "output_type": "stream",
     "text": [
      "2 2\n",
      "4 2\n",
      "3 1\n",
      "temp_entropy : 0.9110633930116763\n"
     ]
    },
    {
     "data": {
      "text/plain": [
       "0.02922256565895487"
      ]
     },
     "execution_count": 120,
     "metadata": {},
     "output_type": "execute_result"
    }
   ],
   "source": [
    "df_high = data[data['Temp'] == 'high']\n",
    "df_med = data[data['Temp'] == 'med']\n",
    "df_low = data[data['Temp'] == 'low']\n",
    "net_entropy_temp = entropy(df_high) + entropy(df_med) + entropy(df_low)\n",
    "print(\"temp_entropy :\",net_entropy_temp)\n",
    "info_gain_temp = h - net_entropy_temp\n",
    "info_gain_temp"
   ]
  },
  {
   "cell_type": "code",
   "execution_count": 122,
   "id": "4ee0b1f8-61dc-4504-9cb3-a80555cf210e",
   "metadata": {},
   "outputs": [
    {
     "name": "stdout",
     "output_type": "stream",
     "text": [
      "4 4\n",
      "4 1\n",
      "1 0\n",
      "humidity_entropy : 0.8292600338883437\n"
     ]
    },
    {
     "data": {
      "text/plain": [
       "0.11102592478228746"
      ]
     },
     "execution_count": 122,
     "metadata": {},
     "output_type": "execute_result"
    }
   ],
   "source": [
    "df_high = data[data['Humidity'] == 'high']\n",
    "df_med = data[data['Humidity'] == 'med']\n",
    "df_low = data[data['Humidity'] == 'low']\n",
    "net_entropy_humidity = entropy(df_high) + entropy(df_med) + entropy(df_low)\n",
    "print(\"humidity_entropy :\",net_entropy_humidity)\n",
    "info_gain_humidity = h - net_entropy_humidity\n",
    "info_gain_humidity"
   ]
  },
  {
   "cell_type": "code",
   "execution_count": 99,
   "id": "93bdc9ae-151d-4102-a0c7-8d4c3c080ab8",
   "metadata": {},
   "outputs": [
    {
     "name": "stdout",
     "output_type": "stream",
     "text": [
      "3 3\n",
      "6 2\n",
      "wind_entropy : 0.8921589282623617\n"
     ]
    },
    {
     "data": {
      "text/plain": [
       "0.04812703040826949"
      ]
     },
     "execution_count": 99,
     "metadata": {},
     "output_type": "execute_result"
    }
   ],
   "source": [
    "df_strong = data[data['Wind'] == 'strong']\n",
    "df_weak = data[data['Wind'] == 'weak']\n",
    "net_entropy_wind = entropy(df_strong) + entropy(df_weak)\n",
    "print(\"wind_entropy :\",net_entropy_wind)\n",
    "info_gain_wind = h - net_entropy_wind\n",
    "info_gain_wind"
   ]
  },
  {
   "cell_type": "code",
   "execution_count": 133,
   "id": "e1e9abd8-bf77-4f71-a19e-9383f515c5f4",
   "metadata": {},
   "outputs": [
    {
     "name": "stdout",
     "output_type": "stream",
     "text": [
      "    Unnamed: 0 Outlook  Temp Humidity    Wind Decision\n",
      "0            0   sunny  high     high    weak       No\n",
      "1            1   sunny  high     high  strong       No\n",
      "7            7   sunny   med     high    weak       no\n",
      "8            8   sunny   low      med    weak      yes\n",
      "10          10   sunny   med      med  strong      yes\n"
     ]
    }
   ],
   "source": [
    "x=data[data['Outlook']=='sunny']\n",
    "print(x)"
   ]
  },
  {
   "cell_type": "code",
   "execution_count": 134,
   "id": "9e19881a-77d9-4055-8bd9-c82d233ba526",
   "metadata": {},
   "outputs": [],
   "source": [
    "yes,no = yes_no(x['Decision'])\n",
    "h1 = total_entropy(yes,no)"
   ]
  },
  {
   "cell_type": "code",
   "execution_count": 135,
   "id": "5cdaf138-94d8-4939-a924-42018221292b",
   "metadata": {},
   "outputs": [],
   "source": [
    "def entropy1(k):\n",
    "    k1,k2 = yes_no(k.iloc[:,-1])\n",
    "    print(k1,k2)\n",
    "    if k1 == 0 or k2 == 0 :\n",
    "        return 0\n",
    "    else :\n",
    "        total = k1 + k2\n",
    "        return -(total/5)*(np.sum((k1/total)*np.log2((k1/total)) + (k2/total)*np.log2((k2/total))))\n"
   ]
  },
  {
   "cell_type": "code",
   "execution_count": 136,
   "id": "7ad0cc52-c10d-4aed-bd26-e07d9a32a9dc",
   "metadata": {},
   "outputs": [
    {
     "name": "stdout",
     "output_type": "stream",
     "text": [
      "0 2\n",
      "1 1\n",
      "1 0\n",
      "temp_entropy : 0.4\n"
     ]
    },
    {
     "data": {
      "text/plain": [
       "0.5709505944546686"
      ]
     },
     "execution_count": 136,
     "metadata": {},
     "output_type": "execute_result"
    }
   ],
   "source": [
    "df_high = x[x['Temp'] == 'high']\n",
    "df_med = x[x['Temp'] == 'med']\n",
    "df_low = x[x['Temp'] == 'low']\n",
    "net_entropy_temp = entropy1(df_high) + entropy1(df_med) + entropy1(df_low)\n",
    "print(\"temp_entropy :\",net_entropy_temp)\n",
    "info_gain_temp = h1 - net_entropy_temp\n",
    "info_gain_temp"
   ]
  },
  {
   "cell_type": "code",
   "execution_count": 137,
   "id": "0570dffb-0610-40d3-a724-326359b8f221",
   "metadata": {},
   "outputs": [
    {
     "name": "stdout",
     "output_type": "stream",
     "text": [
      "0 3\n",
      "2 0\n",
      "0 0\n",
      "humidity_entropy : 0\n"
     ]
    },
    {
     "data": {
      "text/plain": [
       "0.9709505944546686"
      ]
     },
     "execution_count": 137,
     "metadata": {},
     "output_type": "execute_result"
    }
   ],
   "source": [
    "df_high = x[x['Humidity'] == 'high']\n",
    "df_med = x[x['Humidity'] == 'med']\n",
    "df_low = x[x['Humidity'] == 'low']\n",
    "net_entropy_humidity = entropy1(df_high) + entropy1(df_med) + entropy1(df_low)\n",
    "print(\"humidity_entropy :\",net_entropy_humidity)\n",
    "info_gain_humidity = h1 - net_entropy_humidity\n",
    "info_gain_humidity"
   ]
  },
  {
   "cell_type": "code",
   "execution_count": 138,
   "id": "7c06c554-8d19-4e65-81b6-5fdef5c0c035",
   "metadata": {},
   "outputs": [
    {
     "name": "stdout",
     "output_type": "stream",
     "text": [
      "1 1\n",
      "1 2\n",
      "wind_entropy : 0.9509775004326937\n"
     ]
    },
    {
     "data": {
      "text/plain": [
       "0.01997309402197489"
      ]
     },
     "execution_count": 138,
     "metadata": {},
     "output_type": "execute_result"
    }
   ],
   "source": [
    "df_strong = x[x['Wind'] == 'strong']\n",
    "df_weak = x[x['Wind'] == 'weak']\n",
    "net_entropy_wind = entropy1(df_strong) + entropy1(df_weak)\n",
    "print(\"wind_entropy :\",net_entropy_wind)\n",
    "info_gain_wind = h1 - net_entropy_wind\n",
    "info_gain_wind"
   ]
  },
  {
   "cell_type": "code",
   "execution_count": 143,
   "id": "903ab10a-a98b-43d0-b531-64dd5e1e3cca",
   "metadata": {},
   "outputs": [
    {
     "data": {
      "text/html": [
       "<div>\n",
       "<style scoped>\n",
       "    .dataframe tbody tr th:only-of-type {\n",
       "        vertical-align: middle;\n",
       "    }\n",
       "\n",
       "    .dataframe tbody tr th {\n",
       "        vertical-align: top;\n",
       "    }\n",
       "\n",
       "    .dataframe thead th {\n",
       "        text-align: right;\n",
       "    }\n",
       "</style>\n",
       "<table border=\"1\" class=\"dataframe\">\n",
       "  <thead>\n",
       "    <tr style=\"text-align: right;\">\n",
       "      <th></th>\n",
       "      <th>Unnamed: 0</th>\n",
       "      <th>Outlook</th>\n",
       "      <th>Temp</th>\n",
       "      <th>Humidity</th>\n",
       "      <th>Wind</th>\n",
       "      <th>Decision</th>\n",
       "    </tr>\n",
       "  </thead>\n",
       "  <tbody>\n",
       "    <tr>\n",
       "      <th>0</th>\n",
       "      <td>0</td>\n",
       "      <td>sunny</td>\n",
       "      <td>high</td>\n",
       "      <td>high</td>\n",
       "      <td>weak</td>\n",
       "      <td>No</td>\n",
       "    </tr>\n",
       "    <tr>\n",
       "      <th>1</th>\n",
       "      <td>1</td>\n",
       "      <td>sunny</td>\n",
       "      <td>high</td>\n",
       "      <td>high</td>\n",
       "      <td>strong</td>\n",
       "      <td>No</td>\n",
       "    </tr>\n",
       "    <tr>\n",
       "      <th>7</th>\n",
       "      <td>7</td>\n",
       "      <td>sunny</td>\n",
       "      <td>med</td>\n",
       "      <td>high</td>\n",
       "      <td>weak</td>\n",
       "      <td>no</td>\n",
       "    </tr>\n",
       "  </tbody>\n",
       "</table>\n",
       "</div>"
      ],
      "text/plain": [
       "   Unnamed: 0 Outlook  Temp Humidity    Wind Decision\n",
       "0           0   sunny  high     high    weak       No\n",
       "1           1   sunny  high     high  strong       No\n",
       "7           7   sunny   med     high    weak       no"
      ]
     },
     "execution_count": 143,
     "metadata": {},
     "output_type": "execute_result"
    }
   ],
   "source": [
    "p=x[x['Humidity']=='high']\n",
    "p"
   ]
  },
  {
   "cell_type": "code",
   "execution_count": null,
   "id": "412333f5-a991-4e98-9fe3-ee9effd5811a",
   "metadata": {},
   "outputs": [],
   "source": []
  }
 ],
 "metadata": {
  "kernelspec": {
   "display_name": "Python 3 (ipykernel)",
   "language": "python",
   "name": "python3"
  },
  "language_info": {
   "codemirror_mode": {
    "name": "ipython",
    "version": 3
   },
   "file_extension": ".py",
   "mimetype": "text/x-python",
   "name": "python",
   "nbconvert_exporter": "python",
   "pygments_lexer": "ipython3",
   "version": "3.12.0"
  }
 },
 "nbformat": 4,
 "nbformat_minor": 5
}
