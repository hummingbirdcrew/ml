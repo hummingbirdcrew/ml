{
 "cells": [
  {
   "cell_type": "code",
   "execution_count": 4,
   "id": "61ada54c-edd2-4394-af35-6c591b558331",
   "metadata": {},
   "outputs": [
    {
     "name": "stdout",
     "output_type": "stream",
     "text": [
      "0.6923076923076923\n"
     ]
    }
   ],
   "source": [
    "p_hostel=0.6\n",
    "p_day=0.4\n",
    "p_hostel_got_a=0.3\n",
    "p_day_got_a=0.2\n",
    "totala=(0.6*0.3)+(0.4*0.2)\n",
    "p_hoster_getagrade=0.3*0.6/totala\n",
    "print(p_hoster_getagrade)"
   ]
  },
  {
   "cell_type": "code",
   "execution_count": 5,
   "id": "3d1e3270-9312-44a3-8522-e2d585c3975b",
   "metadata": {},
   "outputs": [
    {
     "name": "stdout",
     "output_type": "stream",
     "text": [
      "0.3333333333333333\n"
     ]
    }
   ],
   "source": [
    "prevelance=0.01\n",
    "true_positive=0.99\n",
    "false_positive=0.02\n",
    "ppositive=0.01*0.99+0.99*0.02\n",
    "p_desie_positiveresult=0.01*0.99/ppositive\n",
    "print(p_desie_positiveresult)"
   ]
  },
  {
   "cell_type": "code",
   "execution_count": 7,
   "id": "4eecbd4c-a084-412d-82c9-7b8845054484",
   "metadata": {},
   "outputs": [
    {
     "data": {
      "text/html": [
       "<div>\n",
       "<style scoped>\n",
       "    .dataframe tbody tr th:only-of-type {\n",
       "        vertical-align: middle;\n",
       "    }\n",
       "\n",
       "    .dataframe tbody tr th {\n",
       "        vertical-align: top;\n",
       "    }\n",
       "\n",
       "    .dataframe thead th {\n",
       "        text-align: right;\n",
       "    }\n",
       "</style>\n",
       "<table border=\"1\" class=\"dataframe\">\n",
       "  <thead>\n",
       "    <tr style=\"text-align: right;\">\n",
       "      <th></th>\n",
       "      <th>Unnamed: 0</th>\n",
       "      <th>outlook</th>\n",
       "      <th>play</th>\n",
       "    </tr>\n",
       "  </thead>\n",
       "  <tbody>\n",
       "    <tr>\n",
       "      <th>0</th>\n",
       "      <td>0</td>\n",
       "      <td>rainy</td>\n",
       "      <td>yes</td>\n",
       "    </tr>\n",
       "    <tr>\n",
       "      <th>1</th>\n",
       "      <td>1</td>\n",
       "      <td>sunny</td>\n",
       "      <td>yes</td>\n",
       "    </tr>\n",
       "    <tr>\n",
       "      <th>2</th>\n",
       "      <td>2</td>\n",
       "      <td>overcast</td>\n",
       "      <td>yes</td>\n",
       "    </tr>\n",
       "    <tr>\n",
       "      <th>3</th>\n",
       "      <td>3</td>\n",
       "      <td>overcast</td>\n",
       "      <td>yes</td>\n",
       "    </tr>\n",
       "    <tr>\n",
       "      <th>4</th>\n",
       "      <td>4</td>\n",
       "      <td>sunny</td>\n",
       "      <td>no</td>\n",
       "    </tr>\n",
       "  </tbody>\n",
       "</table>\n",
       "</div>"
      ],
      "text/plain": [
       "   Unnamed: 0   outlook play\n",
       "0           0     rainy  yes\n",
       "1           1     sunny  yes\n",
       "2           2  overcast  yes\n",
       "3           3  overcast  yes\n",
       "4           4     sunny   no"
      ]
     },
     "execution_count": 7,
     "metadata": {},
     "output_type": "execute_result"
    }
   ],
   "source": [
    "import pandas as pd \n",
    "import numpy as np\n",
    "data=pd.read_csv('weather.csv')\n",
    "data.head()"
   ]
  },
  {
   "cell_type": "code",
   "execution_count": 8,
   "id": "5a6c5c60-f3c3-4546-972a-919a453964d4",
   "metadata": {},
   "outputs": [
    {
     "name": "stdout",
     "output_type": "stream",
     "text": [
      "    Unnamed: 0  outlook  play\n",
      "0            0      2.0     1\n",
      "1            1      0.0     1\n",
      "2            2      1.0     1\n",
      "3            3      1.0     1\n",
      "4            4      0.0     0\n",
      "5            5      NaN     1\n",
      "6            6      0.0     1\n",
      "7            7      NaN     1\n",
      "8            8      2.0     0\n",
      "9            9      0.0     0\n",
      "10          10      0.0     1\n",
      "11          11      2.0     0\n",
      "12          12      1.0     1\n",
      "13          13      1.0     1\n"
     ]
    }
   ],
   "source": [
    "data['outlook']=data['outlook'].map({'sunny':0,'overcast':1,'rainy':2})\n",
    "data['play']=data['play'].map({'yes':1,'no':0})\n",
    "print(data)"
   ]
  },
  {
   "cell_type": "code",
   "execution_count": 13,
   "id": "b1831227-f676-4ee1-be59-8a0122cf9a3e",
   "metadata": {},
   "outputs": [],
   "source": [
    "probablity_yes=len(data[data['play']==1])/len(data)\n",
    "#print(probablity_yes)\n",
    "probablity_no=1-probablity_yes\n",
    "#print(probablity_no)"
   ]
  },
  {
   "cell_type": "code",
   "execution_count": 21,
   "id": "ada1a87e-0e14-4659-82ae-c6ae60442e34",
   "metadata": {},
   "outputs": [
    {
     "name": "stdout",
     "output_type": "stream",
     "text": [
      "0.6\n",
      "1.0\n",
      "0.3333333333333333\n"
     ]
    }
   ],
   "source": [
    "p_yes_sunny=len(data[(data['outlook']==0)&(data['play']==1)])/len(data[data['outlook']==0])\n",
    "print(p_yes_sunny)\n",
    "p_yes_overcast=len(data[(data['outlook']==1)&(data['play']==1)])/len(data[data['outlook']==1])\n",
    "print(p_yes_overcast)\n",
    "p_yes_rainy=len(data[(data['outlook']==2)&(data['play']==1)])/len(data[data['outlook']==2])\n",
    "print(p_yes_rainy)"
   ]
  },
  {
   "cell_type": "code",
   "execution_count": 22,
   "id": "374abd74-6b50-4fab-ba79-6e706aa13769",
   "metadata": {},
   "outputs": [
    {
     "name": "stdout",
     "output_type": "stream",
     "text": [
      "0.4\n",
      "0.0\n",
      "0.6666666666666666\n"
     ]
    }
   ],
   "source": [
    "p_no_sunny=len(data[(data['outlook']==0)&(data['play']==0)])/len(data[data['outlook']==0])\n",
    "print(p_no_sunny)\n",
    "p_no_overcast=len(data[(data['outlook']==1)&(data['play']==0)])/len(data[data['outlook']==1])\n",
    "print(p_no_overcast)\n",
    "p_no_rainy=len(data[(data['outlook']==2)&(data['play']==0)])/len(data[data['outlook']==2])\n",
    "print(p_no_rainy)"
   ]
  },
  {
   "cell_type": "code",
   "execution_count": null,
   "id": "2bae340c-f84e-410d-86fe-b56107567283",
   "metadata": {},
   "outputs": [],
   "source": []
  }
 ],
 "metadata": {
  "kernelspec": {
   "display_name": "Python 3 (ipykernel)",
   "language": "python",
   "name": "python3"
  },
  "language_info": {
   "codemirror_mode": {
    "name": "ipython",
    "version": 3
   },
   "file_extension": ".py",
   "mimetype": "text/x-python",
   "name": "python",
   "nbconvert_exporter": "python",
   "pygments_lexer": "ipython3",
   "version": "3.12.0"
  }
 },
 "nbformat": 4,
 "nbformat_minor": 5
}
