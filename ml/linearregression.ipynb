{
 "cells": [
  {
   "cell_type": "code",
   "execution_count": 37,
   "id": "619bb6c6-8482-4469-8fdb-2cfd31afa8bb",
   "metadata": {},
   "outputs": [],
   "source": [
    "import numpy as np\n",
    "import pandas as pd\n",
    "import matplotlib.pyplot as plt\n",
    "from sklearn.model_selection import train_test_split\n",
    "from sklearn.linear_model import LinearRegression"
   ]
  },
  {
   "cell_type": "code",
   "execution_count": 2,
   "id": "2614edbd-fb81-43b5-b9b4-5e6eaa6b39e0",
   "metadata": {},
   "outputs": [
    {
     "data": {
      "text/html": [
       "<div>\n",
       "<style scoped>\n",
       "    .dataframe tbody tr th:only-of-type {\n",
       "        vertical-align: middle;\n",
       "    }\n",
       "\n",
       "    .dataframe tbody tr th {\n",
       "        vertical-align: top;\n",
       "    }\n",
       "\n",
       "    .dataframe thead th {\n",
       "        text-align: right;\n",
       "    }\n",
       "</style>\n",
       "<table border=\"1\" class=\"dataframe\">\n",
       "  <thead>\n",
       "    <tr style=\"text-align: right;\">\n",
       "      <th></th>\n",
       "      <th>Year</th>\n",
       "      <th>Average Gold Price</th>\n",
       "      <th>Average Silver Price</th>\n",
       "    </tr>\n",
       "  </thead>\n",
       "  <tbody>\n",
       "    <tr>\n",
       "      <th>0</th>\n",
       "      <td>1965</td>\n",
       "      <td>72</td>\n",
       "      <td>NaN</td>\n",
       "    </tr>\n",
       "    <tr>\n",
       "      <th>1</th>\n",
       "      <td>1966</td>\n",
       "      <td>84</td>\n",
       "      <td>NaN</td>\n",
       "    </tr>\n",
       "    <tr>\n",
       "      <th>2</th>\n",
       "      <td>1967</td>\n",
       "      <td>103</td>\n",
       "      <td>NaN</td>\n",
       "    </tr>\n",
       "    <tr>\n",
       "      <th>3</th>\n",
       "      <td>1968</td>\n",
       "      <td>162</td>\n",
       "      <td>NaN</td>\n",
       "    </tr>\n",
       "    <tr>\n",
       "      <th>4</th>\n",
       "      <td>1969</td>\n",
       "      <td>176</td>\n",
       "      <td>NaN</td>\n",
       "    </tr>\n",
       "  </tbody>\n",
       "</table>\n",
       "</div>"
      ],
      "text/plain": [
       "   Year  Average Gold Price  Average Silver Price\n",
       "0  1965                  72                   NaN\n",
       "1  1966                  84                   NaN\n",
       "2  1967                 103                   NaN\n",
       "3  1968                 162                   NaN\n",
       "4  1969                 176                   NaN"
      ]
     },
     "execution_count": 2,
     "metadata": {},
     "output_type": "execute_result"
    }
   ],
   "source": [
    "data=pd.read_csv('silvergoldrates.csv')\n",
    "data.head()"
   ]
  },
  {
   "cell_type": "code",
   "execution_count": 8,
   "id": "0fe8b203-a0a4-4714-bb21-5366677d2991",
   "metadata": {},
   "outputs": [],
   "source": [
    "x=data['Year']\n",
    "y=data['Average Gold Price']\n",
    "#print(x)\n",
    "#print(y)"
   ]
  },
  {
   "cell_type": "code",
   "execution_count": 31,
   "id": "e28488f5-9ea4-41f3-a260-aa30ba853a3c",
   "metadata": {},
   "outputs": [
    {
     "data": {
      "text/html": [
       "<div>\n",
       "<style scoped>\n",
       "    .dataframe tbody tr th:only-of-type {\n",
       "        vertical-align: middle;\n",
       "    }\n",
       "\n",
       "    .dataframe tbody tr th {\n",
       "        vertical-align: top;\n",
       "    }\n",
       "\n",
       "    .dataframe thead th {\n",
       "        text-align: right;\n",
       "    }\n",
       "</style>\n",
       "<table border=\"1\" class=\"dataframe\">\n",
       "  <thead>\n",
       "    <tr style=\"text-align: right;\">\n",
       "      <th></th>\n",
       "      <th>Year</th>\n",
       "      <th>Average Gold Price</th>\n",
       "      <th>Average Silver Price</th>\n",
       "      <th>xy</th>\n",
       "      <th>x_square</th>\n",
       "      <th>x_xmean</th>\n",
       "      <th>y_ymean</th>\n",
       "      <th>x_xmeansquare</th>\n",
       "      <th>x_xmeany_ymeansquare</th>\n",
       "      <th>x_xmeany_ymeans</th>\n",
       "    </tr>\n",
       "  </thead>\n",
       "  <tbody>\n",
       "    <tr>\n",
       "      <th>0</th>\n",
       "      <td>1965</td>\n",
       "      <td>72</td>\n",
       "      <td>NaN</td>\n",
       "      <td>141480</td>\n",
       "      <td>3861225</td>\n",
       "      <td>-28.5</td>\n",
       "      <td>-9998.87931</td>\n",
       "      <td>812.25</td>\n",
       "      <td>284968.060345</td>\n",
       "      <td>284968.060345</td>\n",
       "    </tr>\n",
       "    <tr>\n",
       "      <th>1</th>\n",
       "      <td>1966</td>\n",
       "      <td>84</td>\n",
       "      <td>NaN</td>\n",
       "      <td>165144</td>\n",
       "      <td>3865156</td>\n",
       "      <td>-27.5</td>\n",
       "      <td>-9986.87931</td>\n",
       "      <td>756.25</td>\n",
       "      <td>274639.181034</td>\n",
       "      <td>274639.181034</td>\n",
       "    </tr>\n",
       "    <tr>\n",
       "      <th>2</th>\n",
       "      <td>1967</td>\n",
       "      <td>103</td>\n",
       "      <td>NaN</td>\n",
       "      <td>202601</td>\n",
       "      <td>3869089</td>\n",
       "      <td>-26.5</td>\n",
       "      <td>-9967.87931</td>\n",
       "      <td>702.25</td>\n",
       "      <td>264148.801724</td>\n",
       "      <td>264148.801724</td>\n",
       "    </tr>\n",
       "    <tr>\n",
       "      <th>3</th>\n",
       "      <td>1968</td>\n",
       "      <td>162</td>\n",
       "      <td>NaN</td>\n",
       "      <td>318816</td>\n",
       "      <td>3873024</td>\n",
       "      <td>-25.5</td>\n",
       "      <td>-9908.87931</td>\n",
       "      <td>650.25</td>\n",
       "      <td>252676.422414</td>\n",
       "      <td>252676.422414</td>\n",
       "    </tr>\n",
       "    <tr>\n",
       "      <th>4</th>\n",
       "      <td>1969</td>\n",
       "      <td>176</td>\n",
       "      <td>NaN</td>\n",
       "      <td>346544</td>\n",
       "      <td>3876961</td>\n",
       "      <td>-24.5</td>\n",
       "      <td>-9894.87931</td>\n",
       "      <td>600.25</td>\n",
       "      <td>242424.543103</td>\n",
       "      <td>242424.543103</td>\n",
       "    </tr>\n",
       "  </tbody>\n",
       "</table>\n",
       "</div>"
      ],
      "text/plain": [
       "   Year  Average Gold Price  Average Silver Price      xy  x_square  x_xmean  \\\n",
       "0  1965                  72                   NaN  141480   3861225    -28.5   \n",
       "1  1966                  84                   NaN  165144   3865156    -27.5   \n",
       "2  1967                 103                   NaN  202601   3869089    -26.5   \n",
       "3  1968                 162                   NaN  318816   3873024    -25.5   \n",
       "4  1969                 176                   NaN  346544   3876961    -24.5   \n",
       "\n",
       "      y_ymean  x_xmeansquare  x_xmeany_ymeansquare  x_xmeany_ymeans  \n",
       "0 -9998.87931         812.25         284968.060345    284968.060345  \n",
       "1 -9986.87931         756.25         274639.181034    274639.181034  \n",
       "2 -9967.87931         702.25         264148.801724    264148.801724  \n",
       "3 -9908.87931         650.25         252676.422414    252676.422414  \n",
       "4 -9894.87931         600.25         242424.543103    242424.543103  "
      ]
     },
     "execution_count": 31,
     "metadata": {},
     "output_type": "execute_result"
    }
   ],
   "source": [
    "sum_x=np.sum(x)\n",
    "sum_y=np.sum(y)\n",
    "#print(sum_x)\n",
    "data['x_xmean']=x-(sum_x/len(x))\n",
    "data['y_ymean']=y-(sum_y/len(y))\n",
    "data['x_xmeansquare']=data['x_xmean']*data['x_xmean']\n",
    "data['x_xmeany_ymeans']=data['x_xmean']*data['y_ymean']\n",
    "data.head()"
   ]
  },
  {
   "cell_type": "code",
   "execution_count": 30,
   "id": "f5c37316-84db-4042-95bc-ddc85e3c1a0d",
   "metadata": {},
   "outputs": [],
   "source": [
    "#data['xy']=x*y\n",
    "#data['x_square']=x*x\n",
    "#sum_xy=np.sum(data['xy'])\n",
    "#sum_xx=np.sum(data['x_square'])\n",
    "#print(sum_xy)"
   ]
  },
  {
   "cell_type": "code",
   "execution_count": 33,
   "id": "4e3f268d-54bb-4d63-9435-8f93b042dffb",
   "metadata": {},
   "outputs": [
    {
     "name": "stdout",
     "output_type": "stream",
     "text": [
      "675.343658679135\n",
      "-1336226.704266511\n"
     ]
    }
   ],
   "source": [
    "b1=np.sum(data['x_xmeany_ymeans'])/np.sum(data['x_xmeansquare'])\n",
    "print(b1)\n",
    "b0=sum_y/len(y)-b1*sum_x/len(x)\n",
    "print(b0)"
   ]
  },
  {
   "cell_type": "code",
   "execution_count": 39,
   "id": "e7157b92-83b1-491c-8875-aeef9b72344e",
   "metadata": {},
   "outputs": [
    {
     "data": {
      "image/png": "[encoded data removed]",
      "text/plain": [
       "<Figure size 640x480 with 1 Axes>"
      ]
     },
     "metadata": {},
     "output_type": "display_data"
    }
   ],
   "source": [
    "plt.scatter(x,y,color='r')\n",
    "plt.plot(x,(b0+b1*x),color='b')\n",
    "plt.show()"
   ]
  },
  {
   "cell_type": "code",
   "execution_count": 40,
   "id": "d8f8693c-9669-4625-b736-4a6898d9b290",
   "metadata": {},
   "outputs": [
    {
     "name": "stdout",
     "output_type": "stream",
     "text": [
      "31344.204558737576\n"
     ]
    }
   ],
   "source": [
    "predicting_2025=b0+b1*2025\n",
    "print(predicting_2025)"
   ]
  },
  {
   "cell_type": "markdown",
   "id": "f9c4513c-1389-4d5e-865c-9582c54fddd2",
   "metadata": {},
   "source": [
    "with sklearn\n",
    "\n",
    "\n",
    "\n"
   ]
  },
  {
   "cell_type": "code",
   "execution_count": null,
   "id": "8a5e168e-07f3-4a95-b6a8-67b243f98592",
   "metadata": {},
   "outputs": [],
   "source": [
    "data1=pd.read_csv('silvergoldrates.csv')\n",
    "data1.head()"
   ]
  },
  {
   "cell_type": "code",
   "execution_count": 47,
   "id": "87a77142-87bd-4e67-9785-dfe686603ce1",
   "metadata": {},
   "outputs": [],
   "source": [
    "x=data1.iloc[:,:1]\n",
    "y=data1.iloc[:,1:2]"
   ]
  },
  {
   "cell_type": "code",
   "execution_count": 55,
   "id": "595b9c97-6ba9-491e-9a68-805f14c06915",
   "metadata": {},
   "outputs": [],
   "source": [
    "x_train,x_test,y_train,y_test=train_test_split(x,y,test_size=0.5)"
   ]
  },
  {
   "cell_type": "code",
   "execution_count": 53,
   "id": "1930b3eb-cf39-4358-9dec-29dbb1b952cd",
   "metadata": {},
   "outputs": [
    {
     "data": {
      "image/png": "[encoded data removed]",
      "text/plain": [
       "<Figure size 640x480 with 1 Axes>"
      ]
     },
     "metadata": {},
     "output_type": "display_data"
    }
   ],
   "source": [
    "regressor=LinearRegression()\n",
    "regressor.fit(x_train,y_train)\n",
    "y_pred=regressor.predict(x_test)\n",
    "plt.scatter(x_train,y_train,color='r')\n",
    "plt.plot(x_train,regressor.predict(x_train))\n",
    "plt.show()"
   ]
  },
  {
   "cell_type": "code",
   "execution_count": 56,
   "id": "1affe924-4041-4a07-b018-ea74df824c9f",
   "metadata": {},
   "outputs": [
    {
     "data": {
      "image/png": "[encoded data removed]",
      "text/plain": [
       "<Figure size 640x480 with 1 Axes>"
      ]
     },
     "metadata": {},
     "output_type": "display_data"
    }
   ],
   "source": [
    "plt.scatter(x_test,y_test,color='r')\n",
    "plt.plot(x_test,regressor.predict(x_test))\n",
    "plt.show()"
   ]
  },
  {
   "cell_type": "code",
   "execution_count": 60,
   "id": "2af04c46-fb26-42d5-8556-98a607065e3a",
   "metadata": {},
   "outputs": [
    {
     "name": "stdout",
     "output_type": "stream",
     "text": [
      "[[32491.22077922]]\n"
     ]
    },
    {
     "name": "stderr",
     "output_type": "stream",
     "text": [
      "C:\\Users\\Avinash Raju\\AppData\\Local\\Programs\\Python\\Python312\\Lib\\site-packages\\sklearn\\base.py:465: UserWarning: X does not have valid feature names, but LinearRegression was fitted with feature names\n",
      "  warnings.warn(\n"
     ]
    }
   ],
   "source": [
    "ans_by_sklearn = regressor.predict([[2025]])\n",
    "print(ans_by_sklearn)"
   ]
  },
  {
   "cell_type": "code",
   "execution_count": null,
   "id": "8d9a8803-03ae-47c6-be05-1798b08914f8",
   "metadata": {},
   "outputs": [],
   "source": []
  }
 ],
 "metadata": {
  "kernelspec": {
   "display_name": "Python 3 (ipykernel)",
   "language": "python",
   "name": "python3"
  },
  "language_info": {
   "codemirror_mode": {
    "name": "ipython",
    "version": 3
   },
   "file_extension": ".py",
   "mimetype": "text/x-python",
   "name": "python",
   "nbconvert_exporter": "python",
   "pygments_lexer": "ipython3",
   "version": "3.12.0"
  }
 },
 "nbformat": 4,
 "nbformat_minor": 5
}
